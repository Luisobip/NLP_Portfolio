{
 "cells": [
  {
   "cell_type": "markdown",
   "metadata": {},
   "source": [
    "# Text classification\n",
    "\n",
    "Using the dataset `dataset_emails.csv` (or other dataset of your choice) create three text classificators:\n",
    "* Using rule-based approach (regex)\n",
    "* Using naive-bayes\n",
    "* Using Spacy 3 \n",
    "\n",
    "Finally, compare the results and show what is better and why. "
   ]
  }
 ],
 "metadata": {
  "language_info": {
   "name": "python"
  }
 },
 "nbformat": 4,
 "nbformat_minor": 2
}
