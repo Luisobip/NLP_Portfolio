{
 "cells": [
  {
   "cell_type": "markdown",
   "metadata": {},
   "source": [
    "# Tokenization\n",
    "\n",
    "- With custom regexp and NLTK. \n",
    "- With default NLTK tokenizer.\n"
   ]
  },
  {
   "cell_type": "code",
   "execution_count": 5,
   "metadata": {},
   "outputs": [
    {
     "name": "stdout",
     "output_type": "stream",
     "text": [
      "['Dr', '.', \"O'Connor's\", 'Tesla', 'Model', 'Y', 'costs', '$49,999.99', 'Meanwhile', ',', 'U.K.', 'inflation', 'hits', '5.4%', 'in', 'Jan', '.']\n"
     ]
    }
   ],
   "source": [
    "import nltk\n",
    "import re\n",
    "from nltk.tokenize import regexp_tokenize\n",
    "\n",
    "# Sample realistic text from a news headline\n",
    "text = \"Dr. O'Connor's Tesla Model Y costs $49,999.99! Meanwhile, U.K. inflation hits 5.4% in Jan.\"\n",
    "\n",
    "# Define a verbose regex pattern for complex tokenization\n",
    "pattern = r'''(?x)   # Enable verbose mode\n",
    "    (?:[A-Z]\\.)+            # Abbreviations like U.S.A., U.K.\n",
    "  | \\$?\\d+(?:,\\d{3})*(?:\\.\\d+)?%?  # Currency and percentages ($49,999.99, 5.4%)\n",
    "  | \\w+(?:[-']\\w+)*         # Words with optional hyphens/apostrophes (O'Connor, Model-Y)\n",
    "  | \\.\\.\\.                 # Ellipsis (...)\n",
    "  | [][.,;\"’?():_‘-]       # Separate punctuation tokens\n",
    "'''\n",
    "\n",
    "# Tokenize the text\n",
    "tokens = regexp_tokenize(text, pattern)\n",
    "\n",
    "# Print the tokenized output\n",
    "print(tokens)\n"
   ]
  },
  {
   "cell_type": "code",
   "execution_count": 6,
   "metadata": {},
   "outputs": [
    {
     "name": "stdout",
     "output_type": "stream",
     "text": [
      "['Dr.', \"O'Connor\", \"'s\", 'Tesla', 'Model', 'Y', 'costs', '$', '49,999.99', '!', 'Meanwhile', ',', 'U.K.', 'inflation', 'hits', '5.4', '%', 'in', 'Jan', '.']\n"
     ]
    }
   ],
   "source": [
    "\n",
    "# Download the 'punkt' and 'punkt_tab' resources needed for tokenization\n",
    "#nltk.download('punkt')\n",
    "#nltk.download('punkt_tab')\n",
    "\n",
    "tokens = nltk.word_tokenize(text)\n",
    "print(tokens)\n"
   ]
  },
  {
   "cell_type": "markdown",
   "metadata": {},
   "source": [
    "# BPE subword tokenization\n",
    "\n",
    "Example using sentencepiece"
   ]
  },
  {
   "cell_type": "code",
   "execution_count": 7,
   "metadata": {},
   "outputs": [
    {
     "name": "stdout",
     "output_type": "stream",
     "text": [
      "BPE Tokens: ['▁', 'S', 'he', '▁', 'd', 'r', 'iv', 'e', 's', '▁the', '▁newest', '▁', 'an', 'd', '▁slo', 'west', '▁c', 'ar', '.']\n"
     ]
    }
   ],
   "source": [
    "#!pip install sentencepiece\n",
    "import sentencepiece as spm\n",
    "\n",
    "# Step 1: Create a training corpus\n",
    "corpus = \"\"\" \n",
    "newer lower lowest slowest newest \n",
    "the newer cars are slower than the older ones\n",
    "she bought the newest model of the phone\n",
    "\"\"\"\n",
    "\n",
    "# Save the corpus to a file\n",
    "with open(\"corpus.txt\", \"w\", encoding=\"utf-8\") as f:\n",
    "    f.write(corpus)\n",
    "\n",
    "# Step 2: Train a BPE tokenizer\n",
    "spm.SentencePieceTrainer.Train('--input=corpus.txt --model_prefix=bpe --vocab_size=50 --model_type=bpe')\n",
    "\n",
    "# Step 3: Load the trained model\n",
    "sp = spm.SentencePieceProcessor(model_file='bpe.model')\n",
    "\n",
    "# Step 4: Tokenize a new sentence using the trained BPE tokenizer\n",
    "test_sentence = \"She drives the newest and slowest car.\"\n",
    "tokens = sp.encode_as_pieces(test_sentence)\n",
    "\n",
    "# Print the BPE tokens\n",
    "print(\"BPE Tokens:\", tokens)"
   ]
  },
  {
   "cell_type": "markdown",
   "metadata": {},
   "source": []
  },
  {
   "cell_type": "code",
   "execution_count": 8,
   "metadata": {},
   "outputs": [
    {
     "name": "stdout",
     "output_type": "stream",
     "text": [
      "Dr. Smith is an expert. He works at U.K. Tech Inc. His email is dr.smith@example.com. Running, runs, and ran are similar words. He paid $45.55 on 01/02/2024.\n",
      "\n",
      "--- Case Folding ---\n",
      "dr. smith is an expert. he works at u.k. tech inc. his email is dr.smith@example.com. running, runs, and ran are similar words. he paid $45.55 on 01/02/2024.\n",
      "\n",
      "--- Removing Special Characters ---\n",
      "dr smith is an expert he works at uk tech inc his email is drsmithexamplecom running runs and ran are similar words he paid  on \n",
      "\n",
      "--- Tokenization ---\n",
      "Pure Python: ['dr', 'smith', 'is', 'an', 'expert', 'he', 'works', 'at', 'uk', 'tech', 'inc', 'his', 'email', 'is', 'drsmithexamplecom', 'running', 'runs', 'and', 'ran', 'are', 'similar', 'words', 'he', 'paid', 'on']\n",
      "NLTK: ['dr', 'smith', 'is', 'an', 'expert', 'he', 'works', 'at', 'uk', 'tech', 'inc', 'his', 'email', 'is', 'drsmithexamplecom', 'running', 'runs', 'and', 'ran', 'are', 'similar', 'words', 'he', 'paid', 'on']\n",
      "\n",
      "--- Stemming ---\n",
      "Pure Python: ['dr', 'smith', 'is', 'a', 'expert', 'he', 'works', 'at', 'uk', 'tech', 'inc', 'his', 'email', 'is', 'drsmithexamplecom', 'ru', 'runs', 'and', 'ra', 'are', 'similar', 'words', 'he', 'paid', 'o']\n",
      "NLTK: ['dr', 'smith', 'is', 'an', 'expert', 'he', 'work', 'at', 'uk', 'tech', 'inc', 'hi', 'email', 'is', 'drsmithexamplecom', 'run', 'run', 'and', 'ran', 'are', 'similar', 'word', 'he', 'paid', 'on']\n",
      "\n",
      "--- Lemmatization ---\n",
      "NLTK: ['dr', 'smith', 'be', 'an', 'expert', 'he', 'work', 'at', 'uk', 'tech', 'inc', 'his', 'email', 'be', 'drsmithexamplecom', 'run', 'run', 'and', 'run', 'be', 'similar', 'word', 'he', 'pay', 'on']\n",
      "\n",
      "--- Sentence Segmentation ---\n",
      "Pure Python: ['Dr. Smith is an expert.', 'He works at U.K. Tech Inc.', 'His email is dr.smith@example.com.', 'Running, runs, and ran are similar words.', 'He paid $45.55 on 01/02/2024.']\n",
      "NLTK: ['Dr. Smith is an expert.', 'He works at U.K. Tech Inc. His email is dr.smith@example.com.', 'Running, runs, and ran are similar words.', 'He paid $45.55 on 01/02/2024.']\n"
     ]
    },
    {
     "name": "stderr",
     "output_type": "stream",
     "text": [
      "[nltk_data] Downloading package punkt to\n",
      "[nltk_data]     C:\\Users\\luiss\\AppData\\Roaming\\nltk_data...\n",
      "[nltk_data]   Package punkt is already up-to-date!\n",
      "[nltk_data] Downloading package wordnet to\n",
      "[nltk_data]     C:\\Users\\luiss\\AppData\\Roaming\\nltk_data...\n",
      "[nltk_data]   Package wordnet is already up-to-date!\n"
     ]
    }
   ],
   "source": [
    "import re\n",
    "import nltk\n",
    "from nltk.tokenize import sent_tokenize\n",
    "from nltk.stem import PorterStemmer, WordNetLemmatizer\n",
    "\n",
    "# Ensure NLTK resources are downloaded\n",
    "nltk.download('punkt')\n",
    "nltk.download('wordnet')\n",
    "\n",
    "# Sample text\n",
    "text = \"Dr. Smith is an expert. He works at U.K. Tech Inc. His email is dr.smith@example.com. Running, runs, and ran are similar words. He paid $45.55 on 01/02/2024.\"\n",
    "print(text)\n",
    "\n",
    "# 1️ Case Folding (Lowercasing)\n",
    "print(\"\\n--- Case Folding ---\")\n",
    "pure_lower = text.lower()  # Pure Python\n",
    "print(pure_lower)\n",
    "\n",
    "# 2️ Removing Special Characters and Numbers\n",
    "print(\"\\n--- Removing Special Characters ---\")\n",
    "pure_clean = re.sub(r'[^a-zA-Z\\s]', '', pure_lower)  # Pure Python\n",
    "print(pure_clean)\n",
    "\n",
    "# 3️ Tokenization\n",
    "print(\"\\n--- Tokenization ---\")\n",
    "pure_tokens = pure_clean.split()  # Pure Python\n",
    "nltk_tokens = nltk.word_tokenize(pure_clean)  # Using NLTK\n",
    "print(\"Pure Python:\", pure_tokens)\n",
    "print(\"NLTK:\", nltk_tokens)\n",
    "\n",
    "# 4️ Stemming\n",
    "print(\"\\n--- Stemming ---\")\n",
    "stemmer = PorterStemmer()\n",
    "pure_stemmed = [word.rstrip(\"ing\") for word in pure_tokens]  # Simple Pure Python Example\n",
    "nltk_stemmed = [stemmer.stem(word) for word in nltk_tokens]  # Using NLTK\n",
    "print(\"Pure Python:\", pure_stemmed)\n",
    "print(\"NLTK:\", nltk_stemmed)\n",
    "\n",
    "# 5️ Lemmatization\n",
    "print(\"\\n--- Lemmatization ---\")\n",
    "lemmatizer = WordNetLemmatizer()\n",
    "nltk_lemmatized = [lemmatizer.lemmatize(word, pos=\"v\") for word in nltk_tokens]  # NLTK has proper lemmatization\n",
    "print(\"NLTK:\", nltk_lemmatized)\n",
    "\n",
    "# 6️ Sentence Segmentation\n",
    "print(\"\\n--- Sentence Segmentation ---\")\n",
    "pure_sentences = re.split(r'(?<!\\w\\.\\w.)(?<![A-Z][a-z]\\.)(?<=\\.|\\?)\\s', text)  # Pure Python Regex Approach\n",
    "nltk_sentences = sent_tokenize(text)  # Using NLTK\n",
    "print(\"Pure Python:\", pure_sentences)\n",
    "print(\"NLTK:\", nltk_sentences)\n",
    "\n"
   ]
  }
 ],
 "metadata": {
  "kernelspec": {
   "display_name": "base",
   "language": "python",
   "name": "python3"
  },
  "language_info": {
   "codemirror_mode": {
    "name": "ipython",
    "version": 3
   },
   "file_extension": ".py",
   "mimetype": "text/x-python",
   "name": "python",
   "nbconvert_exporter": "python",
   "pygments_lexer": "ipython3",
   "version": "3.12.4"
  }
 },
 "nbformat": 4,
 "nbformat_minor": 2
}
